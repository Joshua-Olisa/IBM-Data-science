{
 "cells": [
  {
   "cell_type": "markdown",
   "id": "c1a29296-177c-49b7-b32d-26168cd71848",
   "metadata": {},
   "source": [
    "# Data Science Tools and Ecosystem"
   ]
  },
  {
   "cell_type": "markdown",
   "id": "f8836e8e-6e56-4b14-b912-c4129811243b",
   "metadata": {},
   "source": [
    "In this notebook, Data Science Tools and Ecosystem are summarized"
   ]
  },
  {
   "cell_type": "markdown",
   "id": "461fba56-a938-4a57-b9e9-4e70e7dc328f",
   "metadata": {},
   "source": [
    "**Objectives**\n",
    "* List of some of the popular languages that Data Scientists use\n",
    "* List data science libraries\n",
    "* A table of Data Science tools\n",
    "* Introducing arithmetic expression\n",
    "* Create a code cell to multiply and add numbers\n",
    "* Convert minutes to hours"
   ]
  },
  {
   "cell_type": "markdown",
   "id": "caa0acb8-28f2-4d22-8460-ad07819dee0d",
   "metadata": {},
   "source": [
    "Some of the popular languages that Data Scientists use are:\n",
    "\n",
    "1. Python \n",
    "2. R\n",
    "3. Julia"
   ]
  },
  {
   "cell_type": "markdown",
   "id": "84cfb474-e8d1-488d-aeb7-8713057c7b9d",
   "metadata": {},
   "source": [
    "Some of the commonly used libraries used by Data Scientists include:\n",
    "1. Pandas\n",
    "2. Numpy\n",
    "3. Seaborn"
   ]
  },
  {
   "cell_type": "markdown",
   "id": "f347d774-6cff-495a-8e40-1d05ed1cb0ee",
   "metadata": {},
   "source": [
    "| Data Science Tools       |\r\n",
    "|--------------------------|\r\n",
    "| Jupyter Notebook         |\r\n",
    "| RStudio                  |\r\n",
    "| Apache Zeppelin          |\r\n"
   ]
  },
  {
   "cell_type": "markdown",
   "id": "dcaf90fc-7f7e-477b-a3da-75904204f001",
   "metadata": {},
   "source": [
    "### Below are a few examples of evaluating arithmetic expressions in Python.\n",
    "\n",
    "Here are some examples:\n",
    "\n",
    "- **Addition**: `3 + 2` will return `5`\n",
    "- **Subtraction**: `10 - 4` will return `6`\n",
    "- **Multiplication**: `7 * 3` will return `21`\n",
    "- **Division**: `8 / 2` will return `4.0`\n"
   ]
  },
  {
   "cell_type": "code",
   "execution_count": 2,
   "id": "360272d7-8d85-4cc0-9657-0ff8abf99e65",
   "metadata": {},
   "outputs": [
    {
     "data": {
      "text/plain": [
       "17"
      ]
     },
     "execution_count": 2,
     "metadata": {},
     "output_type": "execute_result"
    }
   ],
   "source": [
    "# This is a simple arithmetic expression to multiply then add integers.\n",
    "(3 * 4) + 5"
   ]
  },
  {
   "cell_type": "code",
   "execution_count": 3,
   "id": "70912bdb-6154-43c7-bd0c-55f5e5b95964",
   "metadata": {},
   "outputs": [
    {
     "data": {
      "text/plain": [
       "3.3333333333333335"
      ]
     },
     "execution_count": 3,
     "metadata": {},
     "output_type": "execute_result"
    }
   ],
   "source": [
    "# This will convert 200 minutes to hours by dividing by 60\n",
    "200 / 60"
   ]
  },
  {
   "cell_type": "markdown",
   "id": "efc93184-5d8d-4e98-97f6-bdd381aca1a4",
   "metadata": {},
   "source": [
    "## Author\n",
    "Joshua\n"
   ]
  },
  {
   "cell_type": "code",
   "execution_count": null,
   "id": "140c17d0-6981-43d7-90b8-856e9a234a3d",
   "metadata": {},
   "outputs": [],
   "source": []
  }
 ],
 "metadata": {
  "kernelspec": {
   "display_name": "Python 3 (ipykernel)",
   "language": "python",
   "name": "python3"
  },
  "language_info": {
   "codemirror_mode": {
    "name": "ipython",
    "version": 3
   },
   "file_extension": ".py",
   "mimetype": "text/x-python",
   "name": "python",
   "nbconvert_exporter": "python",
   "pygments_lexer": "ipython3",
   "version": "3.12.4"
  }
 },
 "nbformat": 4,
 "nbformat_minor": 5
}
